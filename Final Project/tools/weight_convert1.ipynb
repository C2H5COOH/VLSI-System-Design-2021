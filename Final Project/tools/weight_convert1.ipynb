{
 "cells": [
  {
   "cell_type": "code",
   "execution_count": 24,
   "metadata": {},
   "outputs": [],
   "source": [
    "import numpy as np\n",
    "import pandas as pd"
   ]
  },
  {
   "cell_type": "code",
   "execution_count": 25,
   "metadata": {},
   "outputs": [
    {
     "name": "stdout",
     "output_type": "stream",
     "text": [
      "[-1, -1, -1, -1, 0, 8, -1, -1, 1, 1, -1, 3, 0, -4, 26, 1, 3, -26, 0, -1, -6, 1, 3, 51, -1, -3, -1, -3, -2, -2, 2, 27, -9, -1, -1, -6, 13, 42, 10, 5, 9, 4, -19, -47, -17, -1, 4, -7, 6, 11, -56, 1, 38, 8, 0, 5, -5, 1, 0, -45, -1, -4, 53, -9, -4, 14, -44, -6, 49, -9, -3, 12, -1, 5, -3, 1, -49, 8, 0, 1, -1, 0, 0, 0, 0, 0, 0, 0, 0, 0, 4, -5, -20, -8, 7, 17, -19, 12, 19, 5, 41, 26, 2, 2, -3, -9, -40, -25, 0, 1, 0, 1, 1, -23, -1, 2, 30, -9, 0, -15, 2, 5, -16, -16, -16, 104, 0, 0, 0, 0, 0, 0, 0, 0, 0, 0, 0, 0, 0, 0, 0, 0, 0, 0, 0, 0, 0, 0, 0, 0, 0, 1, 0, 0, 0, 0, 0, 0, 0, 0, 0, 0, 12, -52, 14, 91, -126, 71, -14, 12, -11, 4, -6, -17, -16, 11, 28, -6, 4, 4, -2, 0, -9, -2, -4, -3, -8, -7, 58, 0, -1, -1, -2, -13, -6, 3, 25, -21, 3, -2, -11, -5, 2, 12, -8, 3, 12, 0, 0, 0, 0, 0, 0, 0, 0, 0, 2, 10, 13, 5, -20, -5, 19, -9, -30, -3, 1, 2, 3, 80, -23, -6, -3, -10, -1, -3, -4, 11, 78, -33, -1, -9, -2, 1, -1, -11, -3, -2, 14, -7, 2, 14, 2, 3, 11, 5, -2, -22, 6, -2, -9, 1, -2, -1, -1, -5, -3, -1, -2, -2, 2, -5, -12, -7, -1, 19, -7, 7, 10, 9, -4, -7, 41, -3, -37, 9, -2, -5]\n"
     ]
    }
   ],
   "source": [
    "weigth = open('../data/weight1.txt').read().split()\n",
    "weigth = map(int, weigth)\n",
    "weigth = list(weigth)\n",
    "print(weigth)"
   ]
  },
  {
   "cell_type": "code",
   "execution_count": 26,
   "metadata": {},
   "outputs": [],
   "source": [
    "numberBits = 8\n",
    "hexadecimalFile = open(\"weight1_data.S\", 'w')\n",
    "hexadecimalFile.write(\"# Second Layer Weight\\n\")\n",
    "hexadecimalFile.write(\".section .rodata\\n\")\n",
    "hexadecimalFile.write(\".align 3\\n\")\n",
    "hexadecimalFile.write(\".global weight1\\n\")\n",
    "hexadecimalFile.write(\"weight1:\\n\")\n",
    "hexadecimalFile.write(\"\\t.dword \\\\\\n\")\n",
    "for index in range(len(weigth)):\n",
    "    hexadecimalFile.write(\"\\t0x{:02X}00000000000000\".format(weigth[index] & ((1 << numberBits) - 1)))\n",
    "    if(index != len(weigth) - 1):\n",
    "        hexadecimalFile.write(\", \\\\\\n\")\n",
    "hexadecimalFile.close()"
   ]
  }
 ],
 "metadata": {
  "interpreter": {
   "hash": "916dbcbb3f70747c44a77c7bcd40155683ae19c65e1c03b4aa3499c5328201f1"
  },
  "kernelspec": {
   "display_name": "Python 3.8.10 64-bit",
   "name": "python3"
  },
  "language_info": {
   "codemirror_mode": {
    "name": "ipython",
    "version": 3
   },
   "file_extension": ".py",
   "mimetype": "text/x-python",
   "name": "python",
   "nbconvert_exporter": "python",
   "pygments_lexer": "ipython3",
   "version": "3.8.10"
  },
  "orig_nbformat": 4
 },
 "nbformat": 4,
 "nbformat_minor": 2
}
