{
 "cells": [
  {
   "cell_type": "code",
   "execution_count": 1,
   "metadata": {},
   "outputs": [],
   "source": [
    "import numpy as np\n",
    "import pandas as pd"
   ]
  },
  {
   "cell_type": "code",
   "execution_count": 2,
   "metadata": {},
   "outputs": [
    {
     "data": {
      "text/html": [
       "<div>\n",
       "<style scoped>\n",
       "    .dataframe tbody tr th:only-of-type {\n",
       "        vertical-align: middle;\n",
       "    }\n",
       "\n",
       "    .dataframe tbody tr th {\n",
       "        vertical-align: top;\n",
       "    }\n",
       "\n",
       "    .dataframe thead th {\n",
       "        text-align: right;\n",
       "    }\n",
       "</style>\n",
       "<table border=\"1\" class=\"dataframe\">\n",
       "  <thead>\n",
       "    <tr style=\"text-align: right;\">\n",
       "      <th></th>\n",
       "      <th>0</th>\n",
       "      <th>1</th>\n",
       "      <th>2</th>\n",
       "    </tr>\n",
       "  </thead>\n",
       "  <tbody>\n",
       "    <tr>\n",
       "      <th>0</th>\n",
       "      <td>1</td>\n",
       "      <td>0</td>\n",
       "      <td>1</td>\n",
       "    </tr>\n",
       "    <tr>\n",
       "      <th>1</th>\n",
       "      <td>2</td>\n",
       "      <td>-1</td>\n",
       "      <td>0</td>\n",
       "    </tr>\n",
       "    <tr>\n",
       "      <th>2</th>\n",
       "      <td>1</td>\n",
       "      <td>-2</td>\n",
       "      <td>-1</td>\n",
       "    </tr>\n",
       "    <tr>\n",
       "      <th>3</th>\n",
       "      <td>0</td>\n",
       "      <td>0</td>\n",
       "      <td>1</td>\n",
       "    </tr>\n",
       "    <tr>\n",
       "      <th>4</th>\n",
       "      <td>1</td>\n",
       "      <td>-2</td>\n",
       "      <td>0</td>\n",
       "    </tr>\n",
       "  </tbody>\n",
       "</table>\n",
       "</div>"
      ],
      "text/plain": [
       "   0  1  2\n",
       "0  1  0  1\n",
       "1  2 -1  0\n",
       "2  1 -2 -1\n",
       "3  0  0  1\n",
       "4  1 -2  0"
      ]
     },
     "execution_count": 2,
     "metadata": {},
     "output_type": "execute_result"
    }
   ],
   "source": [
    "weigth = pd.read_csv('../data/weight.txt', sep=\" \", header=None, dtype=np.int8)\n",
    "weigth.head()"
   ]
  },
  {
   "cell_type": "code",
   "execution_count": 3,
   "metadata": {},
   "outputs": [
    {
     "name": "stdout",
     "output_type": "stream",
     "text": [
      "(32, 27)\n"
     ]
    }
   ],
   "source": [
    "kernel = []\n",
    "temporary = []\n",
    "for index, row in weigth.iterrows():\n",
    "    temporary.extend(row)\n",
    "    if((index % 9) == 8):\n",
    "        kernel.append(temporary)\n",
    "        temporary = []\n",
    "print(np.shape(kernel))"
   ]
  },
  {
   "cell_type": "code",
   "execution_count": 4,
   "metadata": {},
   "outputs": [
    {
     "name": "stdout",
     "output_type": "stream",
     "text": [
      "(27, 8)\n",
      "(27, 8)\n",
      "(27, 8)\n",
      "(27, 8)\n"
     ]
    }
   ],
   "source": [
    "weight_g0 = []\n",
    "weight_g1 = []\n",
    "weight_g2 = []\n",
    "weight_g3 = []\n",
    "\n",
    "for c in range(len(kernel[0])):\n",
    "    temporary0 = []\n",
    "    temporary1 = []\n",
    "    temporary2 = []\n",
    "    temporary3 = []\n",
    "    for r in range(8):\n",
    "        temporary0.append(kernel[r][c])\n",
    "        temporary1.append(kernel[r + 8][c])\n",
    "        temporary2.append(kernel[r + 16][c])\n",
    "        temporary3.append(kernel[r + 24][c])\n",
    "    weight_g0.append(temporary0)\n",
    "    weight_g1.append(temporary1)\n",
    "    weight_g2.append(temporary2)\n",
    "    weight_g3.append(temporary3)\n",
    "print(np.shape(weight_g0))\n",
    "print(np.shape(weight_g1))\n",
    "print(np.shape(weight_g2))\n",
    "print(np.shape(weight_g3))"
   ]
  },
  {
   "cell_type": "code",
   "execution_count": 5,
   "metadata": {},
   "outputs": [],
   "source": [
    "counter = 0\n",
    "numberBits = 8\n",
    "hexadecimalFile = open(\"weight0_data.S\", 'w')\n",
    "hexadecimalFile.write(\"# First Layer Weight\\n\")\n",
    "hexadecimalFile.write(\".section .rodata\\n\")\n",
    "hexadecimalFile.write(\".align 3\\n\")\n",
    "hexadecimalFile.write(\".global weight\\n\")\n",
    "hexadecimalFile.write(\"weight:\\n\")\n",
    "hexadecimalFile.write(\"\\t.dword \\\\\\n\")\n",
    "for row in weight_g0:\n",
    "    hexadecimalFile.write(\"\\t0x\")\n",
    "    # for column in row:\n",
    "    for column in range(len(row) - 1, -1, -1):\n",
    "        hexadecimalFile.write('{:02X}'.format(row[column] & ((1 << numberBits) - 1)))\n",
    "    hexadecimalFile.write(\", \\\\\\n\")\n",
    "for row in weight_g1:\n",
    "    hexadecimalFile.write(\"\\t0x\")\n",
    "    # for column in row:\n",
    "    for column in range(len(row) - 1, -1, -1):\n",
    "        hexadecimalFile.write('{:02X}'.format(row[column] & ((1 << numberBits) - 1)))\n",
    "    hexadecimalFile.write(\", \\\\\\n\")\n",
    "for row in weight_g2:\n",
    "    hexadecimalFile.write(\"\\t0x\")\n",
    "    # for column in row:\n",
    "    for column in range(len(row) - 1, -1, -1):\n",
    "        hexadecimalFile.write('{:02X}'.format(row[column] & ((1 << numberBits) - 1)))\n",
    "    hexadecimalFile.write(\", \\\\\\n\")\n",
    "for row in weight_g3:\n",
    "    counter += 1\n",
    "    hexadecimalFile.write(\"\\t0x\")\n",
    "    # for column in row:\n",
    "    for column in range(len(row) - 1, -1, -1):\n",
    "        hexadecimalFile.write('{:02X}'.format(row[column] & ((1 << numberBits) - 1)))\n",
    "        \n",
    "    if(counter != len(weight_g3)):\n",
    "        hexadecimalFile.write(\", \\\\\\n\")\n",
    "hexadecimalFile.close()"
   ]
  }
 ],
 "metadata": {
  "interpreter": {
   "hash": "916dbcbb3f70747c44a77c7bcd40155683ae19c65e1c03b4aa3499c5328201f1"
  },
  "kernelspec": {
   "display_name": "Python 3.8.10 64-bit",
   "name": "python3"
  },
  "language_info": {
   "codemirror_mode": {
    "name": "ipython",
    "version": 3
   },
   "file_extension": ".py",
   "mimetype": "text/x-python",
   "name": "python",
   "nbconvert_exporter": "python",
   "pygments_lexer": "ipython3",
   "version": "3.8.10"
  },
  "orig_nbformat": 4
 },
 "nbformat": 4,
 "nbformat_minor": 2
}
