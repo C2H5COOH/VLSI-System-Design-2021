{
 "cells": [
  {
   "cell_type": "code",
   "execution_count": 1,
   "metadata": {},
   "outputs": [],
   "source": [
    "import numpy as np\n",
    "import pandas as pd"
   ]
  },
  {
   "cell_type": "code",
   "execution_count": 2,
   "metadata": {},
   "outputs": [
    {
     "name": "stdout",
     "output_type": "stream",
     "text": [
      "(32, 112, 112)\n"
     ]
    }
   ],
   "source": [
    "input = []\n",
    "channel = []\n",
    "count = 0\n",
    "for line in open('../data/golden1.txt').readlines():\n",
    "    if(line == '\\n'):\n",
    "        input.append(channel)\n",
    "        channel = []\n",
    "    else:\n",
    "        channel.append([int(n) for n in line.split()])\n",
    "\n",
    "print(np.shape(input))"
   ]
  },
  {
   "cell_type": "code",
   "execution_count": 3,
   "metadata": {},
   "outputs": [],
   "source": [
    "stride = 30\n",
    "count = 0\n",
    "doubleword = []\n",
    "output = []\n",
    "# Channel\n",
    "for c in range(0, len(input)):\n",
    "    # Row\n",
    "    for row in range(0, len(input[c]), stride):\n",
    "        # Column\n",
    "        for column in range(0, len(input[c][row]), stride):\n",
    "            for y in range(row, (row + stride)):\n",
    "                if(y >= len(input[c])):\n",
    "                    break\n",
    "                for x in range(column, (column + stride)):\n",
    "                    if(x >= len(input[c][y])):\n",
    "                        break\n",
    "                    count += 1\n",
    "                    doubleword.append(input[c][y][x])\n",
    "                    if((count % 8) == 0):\n",
    "                        count = 0\n",
    "                        output.append(doubleword)\n",
    "                        doubleword = []\n",
    "            # 30 x 30 x 1\n",
    "            output.append([0xDEADBEEF])"
   ]
  },
  {
   "cell_type": "code",
   "execution_count": 4,
   "metadata": {},
   "outputs": [
    {
     "name": "stdout",
     "output_type": "stream",
     "text": [
      "(50688,)\n"
     ]
    }
   ],
   "source": [
    "print(np.shape(output))"
   ]
  },
  {
   "cell_type": "code",
   "execution_count": 5,
   "metadata": {},
   "outputs": [
    {
     "name": "stdout",
     "output_type": "stream",
     "text": [
      "512\n"
     ]
    }
   ],
   "source": [
    "numberBits = 8\n",
    "hexadecimal = open(\"golden1.hex\", 'w')\n",
    "\n",
    "for row in range(len(output)):\n",
    "    if(len(output[row]) != 8):\n",
    "        hexadecimal.write('{:08x}\\n'.format(output[row][0] & ((1 << 32) - 1)))\n",
    "        count += 1\n",
    "    else:\n",
    "        for column in range(len(output[row])):\n",
    "            hexadecimal.write('{:02x}'.format(output[row][column] & ((1 << 8) - 1)))\n",
    "        hexadecimal.write('\\n')\n",
    "\n",
    "hexadecimal.close()\n",
    "print(count)"
   ]
  }
 ],
 "metadata": {
  "interpreter": {
   "hash": "916dbcbb3f70747c44a77c7bcd40155683ae19c65e1c03b4aa3499c5328201f1"
  },
  "kernelspec": {
   "display_name": "Python 3.8.10 64-bit",
   "name": "python3"
  },
  "language_info": {
   "codemirror_mode": {
    "name": "ipython",
    "version": 3
   },
   "file_extension": ".py",
   "mimetype": "text/x-python",
   "name": "python",
   "nbconvert_exporter": "python",
   "pygments_lexer": "ipython3",
   "version": "3.8.10"
  },
  "orig_nbformat": 4
 },
 "nbformat": 4,
 "nbformat_minor": 2
}
