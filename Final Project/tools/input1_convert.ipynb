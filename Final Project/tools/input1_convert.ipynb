{
 "cells": [
  {
   "cell_type": "code",
   "execution_count": 1,
   "metadata": {},
   "outputs": [],
   "source": [
    "import numpy as np\n",
    "import pandas as pd"
   ]
  },
  {
   "cell_type": "code",
   "execution_count": 2,
   "metadata": {},
   "outputs": [
    {
     "name": "stdout",
     "output_type": "stream",
     "text": [
      "(32, 112, 112)\n"
     ]
    }
   ],
   "source": [
    "input = []\n",
    "channel = []\n",
    "count = 0\n",
    "for line in open('../data/input1.txt').readlines():\n",
    "    if(line == '\\n'):\n",
    "        input.append(channel)\n",
    "        channel = []\n",
    "    else:\n",
    "        channel.append([int(n) for n in line.split()])\n",
    "\n",
    "print(np.shape(input))"
   ]
  },
  {
   "cell_type": "code",
   "execution_count": 3,
   "metadata": {},
   "outputs": [],
   "source": [
    "stride = 30\n",
    "count = 0\n",
    "doubleword = []\n",
    "output = []\n",
    "# Channel\n",
    "for c in range(len(input)):\n",
    "    # Row\n",
    "    for row in range(0, len(input[c]), stride):\n",
    "        # Column\n",
    "        for column in range(0, len(input[c][row]), stride):\n",
    "            for y in range((row - 1), (row + stride + 1)):\n",
    "                if(y >= len(input[c])):\n",
    "                    break\n",
    "                for x in range((column - 1), (column + stride + 1)):\n",
    "                    if((x < 0) or (y < 0)):\n",
    "                        count += 1\n",
    "                        doubleword.append(0)\n",
    "                    elif((x >= len(input[c][row])) or (y >= len(input[c]))):\n",
    "                        # print(count, x, y)\n",
    "                        for a in range((count % 8) + 1, 9):\n",
    "                            doubleword.append(0)\n",
    "                        count = 8\n",
    "                    else:\n",
    "                        count += 1\n",
    "                        doubleword.append(input[c][y][x])\n",
    "                    \n",
    "                    if((count % 8) == 0):\n",
    "                        count = 0\n",
    "                        output.append(doubleword)\n",
    "                        # print(doubleword)\n",
    "                        doubleword = []\n",
    "                        if((x >= len(input[c][row]))):\n",
    "                            break"
   ]
  },
  {
   "cell_type": "code",
   "execution_count": 4,
   "metadata": {},
   "outputs": [
    {
     "name": "stdout",
     "output_type": "stream",
     "text": [
      "(57120, 8)\n"
     ]
    }
   ],
   "source": [
    "print(np.shape(output))"
   ]
  },
  {
   "cell_type": "code",
   "execution_count": 5,
   "metadata": {},
   "outputs": [],
   "source": [
    "hexadecimal = open(\"input1_data.S\", 'w')\n",
    "hexadecimal.write(\"# Input for Layer1\\n\")\n",
    "hexadecimal.write(\".section .rodata\\n\")\n",
    "hexadecimal.write(\".align 3\\n\")\n",
    "hexadecimal.write(\".global input1\\n\")\n",
    "hexadecimal.write(\"input1:\\n\")\n",
    "hexadecimal.write(\"\\t.dword  \\\\\\n\")\n",
    "\n",
    "for row in range(len(output)):\n",
    "    hexadecimal.write(\"\\t0x\")\n",
    "    for column in range(len(output[row]) - 1, -1, -1):\n",
    "        hexadecimal.write('{:02x}'.format(output[row][column]))\n",
    "    if(row != len(output) - 1):\n",
    "        hexadecimal.write(\", \\\\\\n\")\n",
    "\n",
    "hexadecimal.close()"
   ]
  }
 ],
 "metadata": {
  "interpreter": {
   "hash": "916dbcbb3f70747c44a77c7bcd40155683ae19c65e1c03b4aa3499c5328201f1"
  },
  "kernelspec": {
   "display_name": "Python 3.8.10 64-bit",
   "name": "python3"
  },
  "language_info": {
   "codemirror_mode": {
    "name": "ipython",
    "version": 3
   },
   "file_extension": ".py",
   "mimetype": "text/x-python",
   "name": "python",
   "nbconvert_exporter": "python",
   "pygments_lexer": "ipython3",
   "version": "3.8.10"
  },
  "orig_nbformat": 4
 },
 "nbformat": 4,
 "nbformat_minor": 2
}
