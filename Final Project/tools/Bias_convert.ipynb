{
 "cells": [
  {
   "cell_type": "code",
   "execution_count": 26,
   "metadata": {},
   "outputs": [
    {
     "name": "stdout",
     "output_type": "stream",
     "text": [
      "[-1589, 9018, 6232, 4951, 15288, 10845, 8005, 11732, 10814, -1, -5556, 14788, 7515, -7133, -16, 108, -775, -336, 6428, 2011, -4919, 7881, 6356, -286, -8853, 9070, -5601, 10906, -2102, -1226, 5926, 5183]\n"
     ]
    }
   ],
   "source": [
    "import numpy as np\n",
    "import pandas as pd\n",
    "\n",
    "index = 0\n",
    "\n",
    "# data_in = pd.read_csv('../data/Q_Bias' + str(index) + '.txt', sep=\" \", header=None, dtype=np.int32)\n",
    "data_in = []\n",
    "with open('../data/q_bias' + str(index) + '.txt','r') as f:\n",
    "    tmp = f.readline().split(' ')[:-1]\n",
    "    for idx,s in enumerate(tmp):\n",
    "        tmp[idx] = int(s)\n",
    "    data_in = tmp.copy()   \n",
    "print(data_in)"
   ]
  },
  {
   "cell_type": "code",
   "execution_count": 27,
   "metadata": {},
   "outputs": [
    {
     "name": "stdout",
     "output_type": "stream",
     "text": [
      "(32,)\n"
     ]
    },
    {
     "data": {
      "text/plain": [
       "array([-1589,  9018,  6232,  4951, 15288, 10845,  8005, 11732, 10814,\n",
       "          -1, -5556, 14788,  7515, -7133,   -16,   108,  -775,  -336,\n",
       "        6428,  2011, -4919,  7881,  6356,  -286, -8853,  9070, -5601,\n",
       "       10906, -2102, -1226,  5926,  5183])"
      ]
     },
     "execution_count": 27,
     "metadata": {},
     "output_type": "execute_result"
    }
   ],
   "source": [
    "data_out = np.array(data_in)\n",
    "# data_out = np.reshape(data_out, (-1,2), 'C')\n",
    "data_out = np.squeeze(data_out)\n",
    "print(data_out.shape)\n",
    "data_out"
   ]
  },
  {
   "cell_type": "code",
   "execution_count": 28,
   "metadata": {},
   "outputs": [],
   "source": [
    "fout = open(\"bias\" + str(index) + \"_data.S\", 'w')\n",
    "fout.write(\"# Bias for Layer\" + str(index) + \"\\n\")\n",
    "fout.write(\".section .rodata\\n\")\n",
    "fout.write(\".align 2\\n\")\n",
    "fout.write(\".global bias\" + str(index) + \"\\n\")\n",
    "fout.write(\"bias\" + str(index) + \":\\n\")\n",
    "fout.write(\"\\t.word  \\\\\\n\")\n",
    "\n",
    "for row in range( np.size(data_out) ):\n",
    "    fout.write(\"\\t0x\")\n",
    "    fout.write( '{:08x}'.format( data_out[row] & ((1 << 32) - 1) )  )\n",
    "    if(row < np.size(data_out)-1):\n",
    "        fout.write(\", \\\\\\n\")\n",
    "\n",
    "fout.close()"
   ]
  }
 ],
 "metadata": {
  "interpreter": {
   "hash": "916dbcbb3f70747c44a77c7bcd40155683ae19c65e1c03b4aa3499c5328201f1"
  },
  "kernelspec": {
   "display_name": "Python 3.8.10 64-bit",
   "name": "python3"
  },
  "language_info": {
   "codemirror_mode": {
    "name": "ipython",
    "version": 3
   },
   "file_extension": ".py",
   "mimetype": "text/x-python",
   "name": "python",
   "nbconvert_exporter": "python",
   "pygments_lexer": "ipython3",
   "version": "3.8.10"
  },
  "orig_nbformat": 4
 },
 "nbformat": 4,
 "nbformat_minor": 2
}
