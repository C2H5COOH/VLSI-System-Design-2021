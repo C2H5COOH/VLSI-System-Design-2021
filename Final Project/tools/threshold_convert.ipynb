{
 "cells": [
  {
   "cell_type": "code",
   "execution_count": 1,
   "metadata": {},
   "outputs": [],
   "source": [
    "import numpy as np\n",
    "import pandas as pd"
   ]
  },
  {
   "cell_type": "code",
   "execution_count": 2,
   "metadata": {},
   "outputs": [
    {
     "name": "stdout",
     "output_type": "stream",
     "text": [
      "[-10286, -311, 9663, -17767, -15273, -12780, -19637, -19014, -18391, -20105, -19949, -19793, -19482, -19326, -19170, -18858, -18702, -18546, -18235, -18079, -17923, -17144, -16520, -15897, -17611, -17455, -17300, -16988, -16832, -16676, -16364, -16209, -16053, -15741, -15585, -15429, -14650, -14027, -13403, -15118, -14962, -14806, -14494, -14338, -14182, -13871, -13715, -13559, -13247, -13091, -12936, -12156, -11533, -10909, -12624, -12468, -12312, -12000, -11845, -11689, -11377, -11221, -11065, -10754, -10598, -10442, -7792, -5299, -2805, -9663, -9039, -8416, -10130, -9974, -9818, -9507, -9351, -9195, -8883, -8727, -8572, -8260, -8104, -7948, -7169, -6545, -5922, -7636, -7481, -7325, -7013, -6857, -6701, -6390, -6234, -6078, -5766, -5610, -5454, -4675, -4052, -3428, -5143, -4987, -4831, -4519, -4363, -4208, -3896, -3740, -3584, -3272, -3117, -2961, -2181, -1558, -935, -2649, -2493, -2337, -2026, -1870, -1714, -1402, -1246, -1090, -779, -623, -467, 2181, 4675, 7169, 311, 935, 1558, -155, 0, 155, 467, 623, 779, 1090, 1246, 1402, 1714, 1870, 2026, 2805, 3428, 4052, 2337, 2493, 2649, 2961, 3117, 3272, 3584, 3740, 3896, 4208, 4363, 4519, 5299, 5922, 6545, 4831, 4987, 5143, 5454, 5610, 5766, 6078, 6234, 6390, 6701, 6857, 7013, 7792, 8416, 9039, 7325, 7481, 7636, 7948, 8104, 8260, 8572, 8727, 8883, 9195, 9351, 9507, 12156, 14650, 17144, 10286, 10909, 11533, 9818, 9974, 10130, 10442, 10598, 10754, 11065, 11221, 11377, 11689, 11845, 12000, 12780, 13403, 14027, 12312, 12468, 12624, 12936, 13091, 13247, 13559, 13715, 13871, 14182, 14338, 14494, 15273, 15897, 16520, 14806, 14962, 15118, 15429, 15585, 15741, 16053, 16209, 16364, 16676, 16832, 16988, 17767, 18391, 19014, 17300, 17455, 17611, 17923, 18079, 18235, 18546, 18702, 18858, 19170, 19326, 19482]\n"
     ]
    }
   ],
   "source": [
    "index = 2\n",
    "threshold = open('../data/threshold' + str(index) + '.txt').read().split()\n",
    "threshold = map(int, threshold)\n",
    "threshold = list(threshold)\n",
    "print(threshold)"
   ]
  },
  {
   "cell_type": "code",
   "execution_count": 3,
   "metadata": {},
   "outputs": [],
   "source": [
    "numberBits = 32\n",
    "hexadecimalFile = open(\"threshold\" + str(index) + \"_data.S\", 'w')\n",
    "hexadecimalFile.write(\"# Layer\" + str(index) + \" Threshold\\n\")\n",
    "hexadecimalFile.write(\".section .rodata\\n\")\n",
    "hexadecimalFile.write(\".align 3\\n\")\n",
    "hexadecimalFile.write(\".global threshold\" + str(index) + \"\\n\")\n",
    "hexadecimalFile.write(\"threshold\" + str(index) + \":\\n\")\n",
    "hexadecimalFile.write(\"\\t.dword \\\\\\n\")\n",
    "for i in range(0, len(threshold), 2):\n",
    "    if((i + 1) >= len(threshold)):\n",
    "        hexadecimalFile.write(\"\\t0x00000000{:08X}\".format(threshold[i] & ((1 << numberBits) - 1)))\n",
    "    else:\n",
    "        hexadecimalFile.write(\"\\t0x{:08X}{:08X}\".format(threshold[i + 1] & ((1 << numberBits) - 1), threshold[i] & ((1 << numberBits) - 1)))\n",
    "    if(i != len(threshold) - 1):\n",
    "        hexadecimalFile.write(\", \\\\\\n\")\n",
    "hexadecimalFile.close()"
   ]
  }
 ],
 "metadata": {
  "interpreter": {
   "hash": "916dbcbb3f70747c44a77c7bcd40155683ae19c65e1c03b4aa3499c5328201f1"
  },
  "kernelspec": {
   "display_name": "Python 3.8.10 64-bit",
   "name": "python3"
  },
  "language_info": {
   "codemirror_mode": {
    "name": "ipython",
    "version": 3
   },
   "file_extension": ".py",
   "mimetype": "text/x-python",
   "name": "python",
   "nbconvert_exporter": "python",
   "pygments_lexer": "ipython3",
   "version": "3.8.10"
  },
  "orig_nbformat": 4
 },
 "nbformat": 4,
 "nbformat_minor": 2
}
