{
 "cells": [
  {
   "cell_type": "code",
   "execution_count": 1,
   "metadata": {},
   "outputs": [],
   "source": [
    "import numpy as np\n",
    "import pandas as pd"
   ]
  },
  {
   "cell_type": "code",
   "execution_count": 2,
   "metadata": {},
   "outputs": [
    {
     "name": "stdout",
     "output_type": "stream",
     "text": [
      "(32, 112, 112)\n"
     ]
    }
   ],
   "source": [
    "input = []\n",
    "channel = []\n",
    "count = 0\n",
    "for line in open('../data/output1_no_quantize.txt').readlines():\n",
    "    if(line == '\\n'):\n",
    "        input.append(channel)\n",
    "        channel = []\n",
    "    else:\n",
    "        channel.append([int(n) for n in line.split()])\n",
    "\n",
    "print(np.shape(input))"
   ]
  },
  {
   "cell_type": "code",
   "execution_count": 3,
   "metadata": {},
   "outputs": [],
   "source": [
    "stride = 30\n",
    "doubleword = []\n",
    "output = []\n",
    "# Channel\n",
    "for c in range(0, len(input)):\n",
    "    # Row\n",
    "    for row in range(0, len(input[c]), stride):\n",
    "        # Column\n",
    "        for column in range(0, len(input[c][row]), stride):\n",
    "            for y in range(row, (row + stride)):\n",
    "                if(y >= len(input[c])):\n",
    "                    break\n",
    "                for x in range(column, (column + stride)):\n",
    "                    if(x >= len(input[c][y])):\n",
    "                        break\n",
    "                    output.append(input[c][y][x])\n",
    "                    if(input[c][y][x] == 309):\n",
    "                        print(c, y, x)\n",
    "            # 30 x 30 x 1\n",
    "            output.append(0xDEADBEEF)"
   ]
  },
  {
   "cell_type": "code",
   "execution_count": 4,
   "metadata": {},
   "outputs": [
    {
     "name": "stdout",
     "output_type": "stream",
     "text": [
      "(401920,)\n"
     ]
    }
   ],
   "source": [
    "print(np.shape(output))"
   ]
  },
  {
   "cell_type": "code",
   "execution_count": 5,
   "metadata": {},
   "outputs": [],
   "source": [
    "numberBits = 8\n",
    "hexadecimal = open(\"golden1_no_q.hex\", 'w')\n",
    "\n",
    "for row in range(len(output)):\n",
    "    if(output[row] != 0xDEADBEEF):\n",
    "        hexadecimal.write('{:06x}\\n'.format(output[row] & ((1 << 24) - 1)))\n",
    "    else:\n",
    "        hexadecimal.write('{:08x}\\n'.format(output[row] & ((1 << 32) - 1)))\n",
    "\n",
    "hexadecimal.close()"
   ]
  }
 ],
 "metadata": {
  "interpreter": {
   "hash": "916dbcbb3f70747c44a77c7bcd40155683ae19c65e1c03b4aa3499c5328201f1"
  },
  "kernelspec": {
   "display_name": "Python 3.8.10 64-bit",
   "name": "python3"
  },
  "language_info": {
   "codemirror_mode": {
    "name": "ipython",
    "version": 3
   },
   "file_extension": ".py",
   "mimetype": "text/x-python",
   "name": "python",
   "nbconvert_exporter": "python",
   "pygments_lexer": "ipython3",
   "version": "3.8.10"
  },
  "orig_nbformat": 4
 },
 "nbformat": 4,
 "nbformat_minor": 2
}
